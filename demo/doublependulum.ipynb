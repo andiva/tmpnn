{
 "cells": [
  {
   "cell_type": "code",
   "execution_count": 1,
   "metadata": {},
   "outputs": [],
   "source": [
    "import numpy as np\n",
    "import pandas as pd\n",
    "import matplotlib.pyplot as plt\n",
    "\n",
    "from scipy.integrate import solve_ivp\n",
    "from numpy import cos, sin\n",
    "\n",
    "from tqdm import tqdm, trange\n",
    "\n",
    "from tmpnn import TMPNNRegressor\n",
    "from catboost import CatBoostRegressor\n",
    "from sklearn.pipeline import Pipeline\n",
    "from sklearn.preprocessing import MinMaxScaler\n",
    "from sklearn.compose import TransformedTargetRegressor\n",
    "\n",
    "class Cliper(MinMaxScaler):\n",
    "    def fit(self, X, y = None):\n",
    "        self.X_mean_ = np.mean(X)\n",
    "        return super().fit(X, y)\n",
    "\n",
    "    def transform(self, X):\n",
    "        return X\n",
    "\n",
    "    def inverse_transform(self, X):\n",
    "        np.clip(X, self.data_min_, self.data_max_, out=X)\n",
    "        X[np.isnan(X)] = self.X_mean_\n",
    "        return X"
   ]
  },
  {
   "cell_type": "code",
   "execution_count": 2,
   "metadata": {},
   "outputs": [],
   "source": [
    "G = 9.8  # acceleration due to gravity, in m/s^2\n",
    "L1 = 1.0  # length of pendulum 1 in m\n",
    "L2 = 1.0  # length of pendulum 2 in m\n",
    "L = L1 + L2  # maximal length of the combined pendulum\n",
    "M1 = 1.0  # mass of pendulum 1 in kg\n",
    "M2 = 1.0  # mass of pendulum 2 in kg\n",
    "\n",
    "def derivs(t, state):\n",
    "    dydx = np.zeros_like(state)\n",
    "\n",
    "    dydx[0] = state[1]\n",
    "\n",
    "    delta = state[2] - state[0]\n",
    "    den1 = (M1+M2) * L1 - M2 * L1 * cos(delta) * cos(delta)\n",
    "    dydx[1] = ((M2 * L1 * state[1] * state[1] * sin(delta) * cos(delta)\n",
    "                + M2 * G * sin(state[2]) * cos(delta)\n",
    "                + M2 * L2 * state[3] * state[3] * sin(delta)\n",
    "                - (M1+M2) * G * sin(state[0]))\n",
    "               / den1)\n",
    "\n",
    "    dydx[2] = state[3]\n",
    "\n",
    "    den2 = (L2/L1) * den1\n",
    "    dydx[3] = ((- M2 * L2 * state[3] * state[3] * sin(delta) * cos(delta)\n",
    "                + (M1+M2) * G * sin(state[0]) * cos(delta)\n",
    "                - (M1+M2) * L1 * state[1] * state[1] * sin(delta)\n",
    "                - (M1+M2) * G * sin(state[2]))\n",
    "               / den2)\n",
    "\n",
    "    return dydx"
   ]
  },
  {
   "cell_type": "markdown",
   "metadata": {},
   "source": [
    "# Extrapolation"
   ]
  },
  {
   "cell_type": "code",
   "execution_count": 9,
   "metadata": {},
   "outputs": [
    {
     "name": "stderr",
     "output_type": "stream",
     "text": [
      "100%|██████████| 11000/11000 [00:22<00:00, 489.43it/s]\n",
      "100%|██████████| 11000/11000 [00:28<00:00, 392.73it/s]\n",
      "100%|██████████| 11000/11000 [01:07<00:00, 163.12it/s]\n"
     ]
    }
   ],
   "source": [
    "def get_x_y(std):\n",
    "    x, y = [], []\n",
    "    for _ in trange(11000):\n",
    "        y0 = np.random.randn(4) * std\n",
    "        x.append(y0)\n",
    "        y1 = solve_ivp(derivs, [0, 1], y0, vectorized=True, t_eval=[1]).y.T[0]\n",
    "        y.append(y1)\n",
    "    return np.stack(x), np.stack(y)\n",
    "\n",
    "sX, sy = get_x_y(0.1)\n",
    "mX, my = get_x_y(1)\n",
    "bX, by = get_x_y(10)"
   ]
  },
  {
   "cell_type": "code",
   "execution_count": 10,
   "metadata": {},
   "outputs": [],
   "source": [
    "def score(model):\n",
    "    print('s:', model.score(sX[-1000:], sy[-1000:]))\n",
    "    print('m:', model.score(mX[-1000:], my[-1000:]))\n",
    "    print('b:', model.score(bX[-1000:], by[-1000:]))"
   ]
  },
  {
   "cell_type": "code",
   "execution_count": 11,
   "metadata": {},
   "outputs": [
    {
     "name": "stdout",
     "output_type": "stream",
     "text": [
      "s: 0.9956996116601617\n",
      "m: 0.1871539267846366\n",
      "b: -0.004710102824890594\n"
     ]
    }
   ],
   "source": [
    "cat = CatBoostRegressor(random_state=0, verbose=0, loss_function='MultiRMSE').fit(sX[:-1000], sy[:-1000])\n",
    "score(cat)"
   ]
  },
  {
   "cell_type": "code",
   "execution_count": 12,
   "metadata": {},
   "outputs": [
    {
     "name": "stdout",
     "output_type": "stream",
     "text": [
      "s: 0.9998857949270896\n",
      "m: 0.26325114880279155\n",
      "b: -0.004921581727927893\n"
     ]
    }
   ],
   "source": [
    "# tm clip\n",
    "tm = TransformedTargetRegressor(\n",
    "    regressor=TMPNNRegressor(random_state=0),\n",
    "    transformer=Cliper()\n",
    ").fit(sX[:-1000], sy[:-1000])\n",
    "score(tm)"
   ]
  },
  {
   "cell_type": "code",
   "execution_count": 16,
   "metadata": {},
   "outputs": [
    {
     "name": "stdout",
     "output_type": "stream",
     "text": [
      "s: 0.9911513967750375\n",
      "m: 0.1654691823033976\n",
      "b: -0.006603480152998831\n"
     ]
    }
   ],
   "source": [
    "# tm clip know\n",
    "tm = TransformedTargetRegressor(\n",
    "    regressor=TMPNNRegressor(random_state=0, target_features=[0,1,2,3]),\n",
    "    transformer=Cliper()\n",
    ").fit(sX[:-1000], sy[:-1000])\n",
    "score(tm)"
   ]
  },
  {
   "cell_type": "markdown",
   "metadata": {},
   "source": [
    "# Dynamic learning"
   ]
  },
  {
   "cell_type": "code",
   "execution_count": 17,
   "metadata": {},
   "outputs": [],
   "source": [
    "def get_x_y_z(std):\n",
    "    x, y, z = [], [], []\n",
    "    for _ in trange(11000):\n",
    "        y012 = solve_ivp(derivs, [0, 2], np.random.randn(4)*std, vectorized=True, t_eval=[0, 1, 2]).y.T\n",
    "        x.append(y012[0])\n",
    "        y.append(y012[1])\n",
    "        z.append(y012[2])\n",
    "    return np.stack(x), np.stack(y), np.stack(z)"
   ]
  },
  {
   "cell_type": "code",
   "execution_count": 23,
   "metadata": {},
   "outputs": [
    {
     "name": "stderr",
     "output_type": "stream",
     "text": [
      "100%|██████████| 11000/11000 [00:40<00:00, 269.74it/s]\n"
     ]
    }
   ],
   "source": [
    "x, y, z = get_x_y_z(0.1)"
   ]
  },
  {
   "cell_type": "code",
   "execution_count": 24,
   "metadata": {},
   "outputs": [],
   "source": [
    "from sklearn.metrics import r2_score\n",
    "def score_dynamic(model):\n",
    "    pred = model.predict(x[-1000:])\n",
    "    print('1:', r2_score(y[-1000:], pred))\n",
    "    pred = model.predict(pred)\n",
    "    print('2:', r2_score(z[-1000:], pred))"
   ]
  },
  {
   "cell_type": "code",
   "execution_count": 25,
   "metadata": {},
   "outputs": [
    {
     "name": "stdout",
     "output_type": "stream",
     "text": [
      "1: 0.9985552684104528\n",
      "2: 0.8137301126889911\n"
     ]
    }
   ],
   "source": [
    "cat = CatBoostRegressor(random_state=0, verbose=0, loss_function='MultiRMSE').fit(x[:-1000], y[:-1000])\n",
    "score_dynamic(cat)"
   ]
  },
  {
   "cell_type": "code",
   "execution_count": 26,
   "metadata": {},
   "outputs": [
    {
     "name": "stdout",
     "output_type": "stream",
     "text": [
      "1: 0.9997317672788304\n",
      "2: 0.9800823249904937\n"
     ]
    }
   ],
   "source": [
    "# tm clip\n",
    "tm = TransformedTargetRegressor(\n",
    "    regressor=Pipeline([\n",
    "        # ('mms', MinMaxScaler((-0.5,0.5))),\n",
    "        ('est', TMPNNRegressor(random_state=0))\n",
    "    ]),\n",
    "    transformer=Pipeline([\n",
    "        # ('mms', MinMaxScaler((-0.5,0.5))),\n",
    "        ('clp', Cliper())\n",
    "    ])\n",
    ").fit(x[:-1000], y[:-1000])\n",
    "score_dynamic(tm)"
   ]
  },
  {
   "cell_type": "code",
   "execution_count": 27,
   "metadata": {},
   "outputs": [
    {
     "name": "stdout",
     "output_type": "stream",
     "text": [
      "1: 0.9999465062168456\n",
      "2: 0.9580363257841547\n"
     ]
    }
   ],
   "source": [
    "# tm clip know latent\n",
    "tm = TransformedTargetRegressor(\n",
    "    regressor=Pipeline([\n",
    "        # ('mms', MinMaxScaler((-0.5,0.5))),\n",
    "        ('est', TMPNNRegressor(random_state=0, target_features=[0,1,2,3], latent_units=4, initializer='normal'))\n",
    "    ]),\n",
    "    transformer=Pipeline([\n",
    "        # ('mms', MinMaxScaler((-0.5,0.5))),\n",
    "        ('clp', Cliper())\n",
    "    ])\n",
    ").fit(x[:-1000], y[:-1000])\n",
    "score_dynamic(tm)"
   ]
  }
 ],
 "metadata": {
  "kernelspec": {
   "display_name": "Python 3",
   "language": "python",
   "name": "python3"
  },
  "language_info": {
   "codemirror_mode": {
    "name": "ipython",
    "version": 3
   },
   "file_extension": ".py",
   "mimetype": "text/x-python",
   "name": "python",
   "nbconvert_exporter": "python",
   "pygments_lexer": "ipython3",
   "version": "3.10.6"
  }
 },
 "nbformat": 4,
 "nbformat_minor": 2
}
