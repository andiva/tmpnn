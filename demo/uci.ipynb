{
 "cells": [
  {
   "cell_type": "code",
   "execution_count": 1,
   "metadata": {},
   "outputs": [
    {
     "name": "stderr",
     "output_type": "stream",
     "text": [
      "<frozen importlib._bootstrap>:241: RuntimeWarning: numpy.ufunc size changed, may indicate binary incompatibility. Expected 216 from C header, got 232 from PyObject\n"
     ]
    }
   ],
   "source": [
    "import numpy as np\n",
    "import pandas as pd\n",
    "import tensorflow as tf\n",
    "\n",
    "import uci_datasets as uci\n",
    "\n",
    "from sklearn.preprocessing import MinMaxScaler, PowerTransformer\n",
    "from sklearn.pipeline import Pipeline\n",
    "from sklearn.model_selection import train_test_split\n",
    "from sklearn.compose import TransformedTargetRegressor\n",
    "from sklearn.metrics import r2_score, mean_squared_error as mse\n",
    "\n",
    "from tmpnn import TMPNNRegressor\n",
    "from catboost import CatBoostRegressor\n",
    "\n",
    "import matplotlib.pyplot as plt\n",
    "import seaborn as sns\n",
    "from tqdm import tqdm"
   ]
  },
  {
   "cell_type": "markdown",
   "metadata": {},
   "source": [
    "# Average"
   ]
  },
  {
   "cell_type": "code",
   "execution_count": 2,
   "metadata": {},
   "outputs": [],
   "source": [
    "def score(model):\n",
    "    tr, ts = [], []\n",
    "    for name, shape in uci.all_datasets.items():\n",
    "        if shape[1] > 50 or name in ['challenger','forest','solar','breastcancer','fertility','tamielectric']: continue\n",
    "        data = uci.Dataset(name, np.float32, False)\n",
    "        x_tr, x_ts, y_tr, y_ts = train_test_split(data.x, data.y, train_size=min(0.8, 15000/shape[0]), random_state=0)\n",
    "        model.fit(x_tr, y_tr)\n",
    "\n",
    "        tr.append( r2_score(y_tr, model.predict(x_tr)) )\n",
    "        ts.append( r2_score(y_ts, model.predict(x_ts)) )\n",
    "    return f'tr: {np.mean(tr):.3f}+{np.std(tr):.3f} ts: {np.mean(ts):.3f}+{np.std(ts):.3f}'"
   ]
  },
  {
   "cell_type": "code",
   "execution_count": 119,
   "metadata": {},
   "outputs": [
    {
     "name": "stdout",
     "output_type": "stream",
     "text": [
      "cat   tr: 0.969+0.060 ts: 0.873+0.150\n"
     ]
    }
   ],
   "source": [
    "cat = CatBoostRegressor(random_state=0, verbose=0)\n",
    "print('cat  ', score(cat))"
   ]
  },
  {
   "cell_type": "code",
   "execution_count": 5,
   "metadata": {},
   "outputs": [
    {
     "name": "stdout",
     "output_type": "stream",
     "text": [
      "tmpnn tr: 0.903+0.148 ts: 0.849+0.175\n"
     ]
    }
   ],
   "source": [
    "class ClipMinMaxScaler(MinMaxScaler):\n",
    "    def fit(self, X, y = None):\n",
    "        return super().fit(X, y)\n",
    "\n",
    "    def inverse_transform(self, X) -> np.ndarray:\n",
    "        if self.clip: np.clip(X, self.feature_range[0], self.feature_range[1], out=X)\n",
    "        return super().inverse_transform(X)\n",
    "\n",
    "tmpnn = TransformedTargetRegressor(\n",
    "    regressor=Pipeline([\n",
    "        ('imp', MinMaxScaler((-0.5,0.5))),\n",
    "        ('est', TMPNNRegressor(random_state=0,\n",
    "            # max_epochs=200, regularizer=tf.keras.regularizers.L2(1e-4)\n",
    "            ))\n",
    "    ]),\n",
    "    transformer=Pipeline([\n",
    "        # ('pt', PowerTransformer()),\n",
    "        ('mms', ClipMinMaxScaler((-0.5,0.5), clip=True))\n",
    "    ])\n",
    ")\n",
    "print('tmpnn', score(tmpnn))"
   ]
  },
  {
   "cell_type": "markdown",
   "metadata": {},
   "source": [
    "# Dataset-vise"
   ]
  },
  {
   "cell_type": "code",
   "execution_count": 109,
   "metadata": {},
   "outputs": [
    {
     "name": "stdout",
     "output_type": "stream",
     "text": [
      "tr: 0.4690\tts: 0.4810\t3droad\n",
      "tr: 0.9054\tts: 0.8685\tautompg\n",
      "tr: 0.9844\tts: 0.9825\tbike\n",
      "tr: 0.4317\tts: 0.0000\tchallenger\n",
      "tr: 0.9866\tts: 0.9151\tconcreteslump\n",
      "tr: 0.9946\tts: 0.9915\tenergy\n",
      "tr: 0.3642\tts: -0.3544\tforest\n",
      "tr: 0.9958\tts: 0.9955\thouseelectric\n",
      "tr: 0.9912\tts: 0.9904\tkeggdirected\n",
      "tr: 0.9560\tts: 0.9535\tkin40k\n",
      "tr: 0.9901\tts: 0.9748\tparkinsons\n",
      "tr: 0.9916\tts: 0.9915\tpol\n",
      "tr: 0.9755\tts: 0.8990\tpumadyn32nm\n",
      "tr: 0.3701\tts: -0.1665\tsolar\n",
      "tr: 0.9393\tts: 0.8692\tstock\n",
      "tr: 0.9949\tts: 0.9870\tyacht\n",
      "tr: 0.8485\tts: 0.8242\tairfoil\n",
      "tr: 0.9864\tts: 0.8367\tautos\n",
      "tr: 0.9962\tts: -0.6207\tbreastcancer\n",
      "tr: 0.9127\tts: 0.8446\tconcrete\n",
      "tr: 0.8764\tts: 0.8694\televators\n",
      "tr: 0.9094\tts: -2.6063\tfertility\n",
      "tr: 0.9594\tts: 0.8745\thousing\n",
      "tr: 0.9847\tts: 0.9825\tkeggundirected\n",
      "tr: 0.8756\tts: 0.8116\tmachine\n",
      "tr: 0.9342\tts: 0.8047\tpendulum\n",
      "tr: 0.4932\tts: 0.4741\tprotein\n",
      "tr: 0.8669\tts: 0.8794\tservo\n",
      "tr: 0.7166\tts: 0.3865\tskillcraft\n",
      "tr: 0.9947\tts: 0.9944\tsml\n",
      "tr: 0.0007\tts: -0.0006\ttamielectric\n",
      "tr: 0.8552\tts: 0.7129\twine\n"
     ]
    }
   ],
   "source": [
    "# tmpnn heuristic\n",
    "tmpnn = TransformedTargetRegressor(\n",
    "    regressor=Pipeline([\n",
    "        ('imp', MinMaxScaler((-0.5,0.5))),\n",
    "        ('est', TMPNNRegressor(random_state=0, regularizer=tf.keras.regularizers.L2(1e-4)))\n",
    "    ]),\n",
    "    transformer=Pipeline([\n",
    "        # ('pt', PowerTransformer()),\n",
    "        ('mms', ClipMinMaxScaler((-0.5,0.5), clip=True))\n",
    "    ])\n",
    ")\n",
    "for name, shape in uci.all_datasets.items():\n",
    "    if shape[1] > 50: continue\n",
    "    data = uci.Dataset(name, np.float32, False)\n",
    "    x_tr, x_ts, y_tr, y_ts = train_test_split(data.x, data.y, train_size=min(0.8, 15000/shape[0]), random_state=0)\n",
    "    tmpnn.fit(x_tr, y_tr)\n",
    "\n",
    "    row = f'tr: '\n",
    "    try: row += f'{r2_score(y_tr, tmpnn.predict(x_tr)):1.4f}'\n",
    "    except: row += 'nan   '\n",
    "    row += '\\tts: '\n",
    "    try: row += f'{r2_score(y_ts, tmpnn.predict(x_ts)):1.4f}'\n",
    "    except: row += 'nan   '\n",
    "    print(row + '\\t' + name)"
   ]
  },
  {
   "cell_type": "code",
   "execution_count": 108,
   "metadata": {},
   "outputs": [
    {
     "name": "stdout",
     "output_type": "stream",
     "text": [
      "tr: 0.8279\tts: 0.7909\t3droad\n",
      "tr: 0.9923\tts: 0.9050\tautompg\n",
      "tr: 0.9999\tts: 0.9996\tbike\n",
      "tr: 0.9999\tts: 0.0000\tchallenger\n",
      "tr: 0.9999\tts: 0.5125\tconcreteslump\n",
      "tr: 0.9998\tts: 0.9984\tenergy\n",
      "tr: 0.9305\tts: -0.0506\tforest\n",
      "tr: 0.9984\tts: 0.9977\thouseelectric\n",
      "tr: 0.9945\tts: 0.9924\tkeggdirected\n",
      "tr: 0.9382\tts: 0.8803\tkin40k\n",
      "tr: 0.9987\tts: 0.9965\tparkinsons\n",
      "tr: 0.9937\tts: 0.9863\tpol\n",
      "tr: 0.9800\tts: 0.9355\tpumadyn32nm\n",
      "tr: 0.5426\tts: -0.5067\tsolar\n",
      "tr: 0.9953\tts: 0.8788\tstock\n",
      "tr: 1.0000\tts: 0.9915\tyacht\n",
      "tr: 0.9843\tts: 0.9587\tairfoil\n",
      "tr: 0.9960\tts: 0.8883\tautos\n",
      "tr: 0.9999\tts: 0.3517\tbreastcancer\n",
      "tr: 0.9875\tts: 0.9397\tconcrete\n",
      "tr: 0.9088\tts: 0.8679\televators\n",
      "tr: 0.9701\tts: -0.0091\tfertility\n",
      "tr: 0.9973\tts: 0.9024\thousing\n",
      "tr: 0.9878\tts: 0.9858\tkeggundirected\n",
      "tr: 0.9932\tts: 0.8987\tmachine\n",
      "tr: 0.9934\tts: 0.5812\tpendulum\n",
      "tr: 0.7442\tts: 0.6275\tprotein\n",
      "tr: 0.9973\tts: 0.9278\tservo\n",
      "tr: 0.9089\tts: 0.5073\tskillcraft\n",
      "tr: 0.9993\tts: 0.9981\tsml\n",
      "tr: 0.0839\tts: -0.0287\ttamielectric\n",
      "tr: 0.9802\tts: 0.7607\twine\n"
     ]
    }
   ],
   "source": [
    "# catboost\n",
    "cat = CatBoostRegressor(random_state=0, verbose=0)\n",
    "for name, shape in uci.all_datasets.items():\n",
    "    if shape[1] > 50: continue\n",
    "    data = uci.Dataset(name, np.float32, False)\n",
    "    x_tr, x_ts, y_tr, y_ts = train_test_split(data.x, data.y, train_size=min(0.8, 15000/shape[0]), random_state=0)\n",
    "    cat.fit(x_tr, y_tr)\n",
    "\n",
    "    row = f'tr: '\n",
    "    try: row += f'{r2_score(y_tr, cat.predict(x_tr)):1.4f}'\n",
    "    except: row += 'nan   '\n",
    "    row += '\\tts: '\n",
    "    try: row += f'{r2_score(y_ts, cat.predict(x_ts)):1.4f}'\n",
    "    except: row += 'nan   '\n",
    "    print(row + '\\t' + name)"
   ]
  }
 ],
 "metadata": {
  "kernelspec": {
   "display_name": "Python 3",
   "language": "python",
   "name": "python3"
  },
  "language_info": {
   "codemirror_mode": {
    "name": "ipython",
    "version": 3
   },
   "file_extension": ".py",
   "mimetype": "text/x-python",
   "name": "python",
   "nbconvert_exporter": "python",
   "pygments_lexer": "ipython3",
   "version": "3.10.6"
  },
  "orig_nbformat": 4
 },
 "nbformat": 4,
 "nbformat_minor": 2
}
