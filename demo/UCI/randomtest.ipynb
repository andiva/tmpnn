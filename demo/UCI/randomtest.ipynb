{
 "cells": [
  {
   "cell_type": "code",
   "execution_count": 1,
   "metadata": {},
   "outputs": [],
   "source": [
    "import numpy as np\n",
    "import pandas as pd\n",
    "from sklearn.metrics import mean_squared_error, make_scorer, r2_score\n",
    "from sklearn.model_selection import cross_val_score, ShuffleSplit, train_test_split\n",
    "from sklearn.preprocessing import LabelEncoder, MinMaxScaler, PowerTransformer, StandardScaler\n",
    "from sklearn.pipeline import Pipeline\n",
    "from catboost import CatBoostRegressor\n",
    "from tmpnn import Regression\n",
    "import matplotlib.pyplot as plt\n",
    "from tqdm import tqdm"
   ]
  },
  {
   "cell_type": "code",
   "execution_count": 2,
   "metadata": {},
   "outputs": [],
   "source": [
    "cv = ShuffleSplit(n_splits=10, test_size=0.1, random_state=1)"
   ]
  },
  {
   "cell_type": "code",
   "execution_count": 4,
   "metadata": {},
   "outputs": [],
   "source": [
    "#sarcos\n",
    "import scipy.io\n",
    "mat = scipy.io.loadmat('sarcos_inv.mat')\n",
    "sarcos_df = pd.DataFrame(mat['sarcos_inv'])"
   ]
  },
  {
   "cell_type": "code",
   "execution_count": 68,
   "metadata": {},
   "outputs": [
    {
     "name": "stdout",
     "output_type": "stream",
     "text": [
      "CatBoost: 7.95 0.17 (0)\n",
      "CatBoost: 3.89 0.21 (1)\n",
      "CatBoost: 1.24 0.06 (2)\n",
      "CatBoost: 0.92 0.04 (3)\n",
      "CatBoost: 0.02 0.00 (4)\n",
      "CatBoost: 0.07 0.00 (5)\n",
      "CatBoost: 0.06 0.00 (6)\n"
     ]
    }
   ],
   "source": [
    "for i in range(7):\n",
    "    X, y = sarcos_df.iloc[:,:-7], sarcos_df.iloc[:,-7+i]\n",
    "    scores = cross_val_score(CatBoostRegressor(verbose=False), X, y, cv=cv, scoring=make_scorer(mean_squared_error))\n",
    "    print(f\"CatBoost: {scores.mean():.2f} {scores.std():.2f} ({i})\")"
   ]
  },
  {
   "cell_type": "code",
   "execution_count": 14,
   "metadata": {},
   "outputs": [
    {
     "name": "stdout",
     "output_type": "stream",
     "text": [
      "TmPNN: 7.94 0.00 (0)\n",
      "TmPNN: 3.22 0.00 (1)\n",
      "TmPNN: 0.82 0.00 (2)\n",
      "TmPNN: 0.67 0.00 (3)\n",
      "TmPNN: 0.02 0.00 (4)\n",
      "TmPNN: 0.05 0.00 (5)\n",
      "TmPNN: 0.04 0.00 (6)\n"
     ]
    }
   ],
   "source": [
    "X, y = sarcos_df.iloc[:,:-7].values, sarcos_df.iloc[:,-7:].values\n",
    "X = MinMaxScaler((-0.5,0.5)).fit_transform(X)\n",
    "Yscaler = MinMaxScaler((-0.5, 0.5))\n",
    "y_tr = Yscaler.fit_transform(y)\n",
    "scores = {}\n",
    "for train, test in tqdm(cv.split(X, y_tr), leave=False):\n",
    "    model = Regression(X.shape[1],7,2,2,is_scale=False, learning_rate=1e-2) \n",
    "\n",
    "    history1 = model.fit(X[train], y_tr[train], epochs=1500, verbose=0)\n",
    "\n",
    "    pred = Yscaler.inverse_transform(model.predict(X[test]))\n",
    "    for i in range(7):\n",
    "        scores[i] = (mean_squared_error(y[test,i], pred[:,i]))\n",
    "for i in range(7):\n",
    "    print(f\"TmPNN: {np.mean(scores[i]):.2f} {np.std(scores[i]):.2f} ({i})\")"
   ]
  },
  {
   "cell_type": "code",
   "execution_count": 28,
   "metadata": {},
   "outputs": [
    {
     "name": "stdout",
     "output_type": "stream",
     "text": [
      "CatBoost: 0.04 0.00 (CO)\n",
      "CatBoost: 0.04 0.00 (NO)\n"
     ]
    },
    {
     "name": "stderr",
     "output_type": "stream",
     "text": [
      "                          "
     ]
    },
    {
     "name": "stdout",
     "output_type": "stream",
     "text": [
      "TmPNN: 0.02 0.00 (CO)\n",
      "TmPNN: 0.02 0.00 (NO)\n"
     ]
    },
    {
     "name": "stderr",
     "output_type": "stream",
     "text": [
      "\r"
     ]
    }
   ],
   "source": [
    "#emmisions\n",
    "gas_df = pd.concat([pd.read_csv('gas/gt_201'+str(i)+'.csv')for i in range(1, 6)])\n",
    "\n",
    "names = {0:'CO',1:'NO'}\n",
    "\n",
    "for i in range(2):\n",
    "    X, y = sarcos_df.iloc[:,:-2], sarcos_df.iloc[:,-2+i]\n",
    "    scores = cross_val_score(CatBoostRegressor(verbose=False), X, y, cv=cv, scoring=make_scorer(mean_squared_error))\n",
    "    print(f\"CatBoost: {scores.mean():.2f} {scores.std():.2f} ({names[i]})\")\n",
    "\n",
    "X, y = sarcos_df.iloc[:,:-2].values, sarcos_df.iloc[:,-2:].values\n",
    "X = MinMaxScaler((-0.5,0.5)).fit_transform(X)\n",
    "scores = {}\n",
    "for train, test in tqdm(cv.split(X, y), leave=False):\n",
    "    model = Regression(X.shape[1],2,2,7,is_scale=False, learning_rate=1e-3) \n",
    "\n",
    "    model.fit(X[train], y[train], epochs=500, verbose=0)\n",
    "\n",
    "    pred = model.predict(X[test])\n",
    "    for i in range(2):\n",
    "        scores[i] = (mean_squared_error(y[test,i], pred[:,i]))\n",
    "for i in range(2):\n",
    "    print(f\"TmPNN: {np.mean(scores[i]):.2f} {np.std(scores[i]):.2f} ({names[i]})\")"
   ]
  },
  {
   "cell_type": "code",
   "execution_count": 18,
   "metadata": {},
   "outputs": [
    {
     "name": "stdout",
     "output_type": "stream",
     "text": [
      "CatBoost: 0.19 0.01\n"
     ]
    },
    {
     "name": "stderr",
     "output_type": "stream",
     "text": [
      "10it [09:17, 55.71s/it]"
     ]
    },
    {
     "name": "stdout",
     "output_type": "stream",
     "text": [
      "TmPNN: 0.36 0.01\n"
     ]
    },
    {
     "name": "stderr",
     "output_type": "stream",
     "text": [
      "\n"
     ]
    }
   ],
   "source": [
    "#california\n",
    "from sklearn.datasets import fetch_california_housing\n",
    "california_housing = fetch_california_housing(as_frame=True)\n",
    "california_df = california_housing.frame\n",
    "\n",
    "X, y = california_df.iloc[:,:-1], california_df.iloc[:,-1]\n",
    "scores = cross_val_score(CatBoostRegressor(verbose=False), X, y, cv=cv, scoring=make_scorer(mean_squared_error))\n",
    "print(f\"CatBoost: {scores.mean():.2f} {scores.std():.2f}\")\n",
    "\n",
    "X, y = california_df.iloc[:,:-1].values, california_df.iloc[:,-1].values\n",
    "X = MinMaxScaler((-0.5,0.5)).fit_transform(X)\n",
    "scores = []\n",
    "for train, test in tqdm(cv.split(X, y)):\n",
    "    model = Regression(X.shape[1],1,2,7,is_scale=False, learning_rate=1e-3) \n",
    "\n",
    "    model.fit(X[train], y[train], epochs=500, verbose=0)\n",
    "\n",
    "    scores.append(mean_squared_error(y[test], model.predict(X[test])))\n",
    "print(f\"TmPNN: {np.mean(scores):.2f} {np.std(scores):.2f}\")"
   ]
  },
  {
   "cell_type": "code",
   "execution_count": 75,
   "metadata": {},
   "outputs": [
    {
     "name": "stdout",
     "output_type": "stream",
     "text": [
      "CatBoost: 16.45 7.59\n"
     ]
    },
    {
     "name": "stderr",
     "output_type": "stream",
     "text": [
      "                       "
     ]
    },
    {
     "name": "stdout",
     "output_type": "stream",
     "text": [
      "TmPNN: 27.54 3.05\n"
     ]
    },
    {
     "name": "stderr",
     "output_type": "stream",
     "text": [
      "\r"
     ]
    }
   ],
   "source": [
    "#concrete\n",
    "concrete_df = pd.read_excel('Concrete_Data.xls')\n",
    "\n",
    "X, y = concrete_df.iloc[:,:-1], concrete_df.iloc[:,-1]\n",
    "scores = cross_val_score(CatBoostRegressor(verbose=False), X, y, cv=cv, scoring=make_scorer(mean_squared_error))\n",
    "print(f\"CatBoost: {scores.mean():.2f} {scores.std():.2f}\")\n",
    "\n",
    "X, y = concrete_df.iloc[:,:-1].values, concrete_df.iloc[:,-1].values\n",
    "X = MinMaxScaler((-0.5,0.5)).fit_transform(X)\n",
    "scores = []\n",
    "for train, test in tqdm(cv.split(X, y), leave=False):\n",
    "    model = Regression(X.shape[1],1,2,7,is_scale=False, learning_rate=1e-3) \n",
    "    \n",
    "    X_tr=X[train]\n",
    "    Y_tr=y[train]\n",
    "\n",
    "    history1 = model.fit(X_tr, Y_tr, epochs=10000, verbose=0)\n",
    "\n",
    "    scores.append(mean_squared_error(y[test], model.predict(X[test])))\n",
    "print(f\"TmPNN: {np.mean(scores):.2f} {np.std(scores):.2f}\")"
   ]
  },
  {
   "cell_type": "code",
   "execution_count": 55,
   "metadata": {},
   "outputs": [
    {
     "name": "stdout",
     "output_type": "stream",
     "text": [
      "CatBoost: 0.72 0.37\n"
     ]
    },
    {
     "name": "stderr",
     "output_type": "stream",
     "text": [
      "                        "
     ]
    },
    {
     "name": "stdout",
     "output_type": "stream",
     "text": [
      "TmPNN: 2.32 0.57\n"
     ]
    },
    {
     "name": "stderr",
     "output_type": "stream",
     "text": [
      "\r"
     ]
    }
   ],
   "source": [
    "#yacht\n",
    "yacht_df = pd.read_csv('yacht_hydrodynamics.data', sep=' ', encoding='utf-8', names=['lcg', 'cp', 'volume', 'b/d', 'l/b', 'fn', 'r',])\n",
    "\n",
    "X, y = yacht_df.iloc[:,:-1], yacht_df.iloc[:,-1]\n",
    "scores = cross_val_score(CatBoostRegressor(verbose=False), X, y, cv=cv, scoring=make_scorer(mean_squared_error))\n",
    "print(f\"CatBoost: {scores.mean():.2f} {scores.std():.2f}\")\n",
    "\n",
    "X, y = yacht_df.iloc[:,:-1].values, yacht_df.iloc[:,-1].values\n",
    "X = MinMaxScaler((0,0.1)).fit_transform(X)\n",
    "scores = []\n",
    "for train, test in tqdm(cv.split(X, y), leave=False):\n",
    "    model = Regression(X.shape[1],1,2,7,is_scale=False, learning_rate=1e-2) \n",
    "    \n",
    "    model.fit(X[train], y[train], epochs=30000, verbose=0)\n",
    "\n",
    "    scores.append(mean_squared_error(y[test], model.predict(X[test])))\n",
    "print(f\"TmPNN: {np.mean(scores):.2f} {np.std(scores):.2f}\")"
   ]
  },
  {
   "cell_type": "code",
   "execution_count": 67,
   "metadata": {},
   "outputs": [
    {
     "name": "stdout",
     "output_type": "stream",
     "text": [
      "CatBoost: 2.05 0.33\n"
     ]
    },
    {
     "name": "stderr",
     "output_type": "stream",
     "text": [
      "                       "
     ]
    },
    {
     "name": "stdout",
     "output_type": "stream",
     "text": [
      "TmPNN: 13.02 2.14\n"
     ]
    },
    {
     "name": "stderr",
     "output_type": "stream",
     "text": [
      "\r"
     ]
    }
   ],
   "source": [
    "#airfoil\n",
    "airfoil_df = pd.read_csv('airfoil_self_noise.dat', sep='\\t', header=None)\n",
    "\n",
    "X, y = airfoil_df.iloc[:,:-1], airfoil_df.iloc[:,-1]\n",
    "scores = cross_val_score(CatBoostRegressor(verbose=False), X, y, cv=cv, scoring=make_scorer(mean_squared_error))\n",
    "print(f\"CatBoost: {scores.mean():.2f} {scores.std():.2f}\")\n",
    "\n",
    "X, y = airfoil_df.iloc[:,:-1].values, airfoil_df.iloc[:,-1].values\n",
    "X = MinMaxScaler((-0.5,0.5)).fit_transform(X)\n",
    "scores = []\n",
    "for train, test in tqdm(cv.split(X, y), leave=False):\n",
    "    model = Regression(X.shape[1],1,2,7,is_scale=False, learning_rate=1e-3) \n",
    "\n",
    "    history1 = model.fit(X[train], y[train], epochs=2000, verbose=0)\n",
    "\n",
    "    scores.append(mean_squared_error(y[test], model.predict(X[test])))\n",
    "print(f\"TmPNN: {np.mean(scores):.2f} {np.std(scores):.2f}\")"
   ]
  }
 ],
 "metadata": {
  "kernelspec": {
   "display_name": "Python 3",
   "language": "python",
   "name": "python3"
  },
  "language_info": {
   "codemirror_mode": {
    "name": "ipython",
    "version": 3
   },
   "file_extension": ".py",
   "mimetype": "text/x-python",
   "name": "python",
   "nbconvert_exporter": "python",
   "pygments_lexer": "ipython3",
   "version": "3.10.6"
  },
  "orig_nbformat": 4
 },
 "nbformat": 4,
 "nbformat_minor": 2
}
